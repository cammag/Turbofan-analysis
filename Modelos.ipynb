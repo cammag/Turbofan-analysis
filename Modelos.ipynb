{
  "nbformat": 4,
  "nbformat_minor": 0,
  "metadata": {
    "colab": {
      "name": "Modelos.ipynb",
      "provenance": [],
      "collapsed_sections": []
    },
    "kernelspec": {
      "name": "python3",
      "display_name": "Python 3"
    },
    "language_info": {
      "name": "python"
    }
  },
  "cells": [
    {
      "cell_type": "code",
      "metadata": {
        "colab": {
          "base_uri": "https://localhost:8080/"
        },
        "id": "zC7KKt01RKd9",
        "outputId": "d482993f-b05d-4b72-97c0-ef3a67cb6c4c"
      },
      "source": [
        "import numpy as np\n",
        "import pandas as pd\n",
        "\n",
        "from sklearn.model_selection import train_test_split\n",
        "from scipy import stats\n",
        "import statsmodels.api as sm\n",
        "\n",
        "from yellowbrick.classifier import ConfusionMatrix\n",
        "from sklearn.model_selection import GridSearchCV\n",
        "\n",
        "from sklearn.metrics import accuracy_score, classification_report\n",
        "\n",
        "from sklearn.model_selection import cross_val_score, KFold\n",
        "import lightgbm\n",
        "from numpy import mean\n",
        "from numpy import std\n",
        "from sklearn.model_selection import cross_val_score"
      ],
      "execution_count": 1,
      "outputs": [
        {
          "output_type": "stream",
          "name": "stderr",
          "text": [
            "/usr/local/lib/python3.7/dist-packages/statsmodels/tools/_testing.py:19: FutureWarning: pandas.util.testing is deprecated. Use the functions in the public API at pandas.testing instead.\n",
            "  import pandas.util.testing as tm\n",
            "/usr/local/lib/python3.7/dist-packages/sklearn/utils/deprecation.py:144: FutureWarning: The sklearn.metrics.classification module is  deprecated in version 0.22 and will be removed in version 0.24. The corresponding classes / functions should instead be imported from sklearn.metrics. Anything that cannot be imported from sklearn.metrics is now part of the private API.\n",
            "  warnings.warn(message, FutureWarning)\n"
          ]
        }
      ]
    },
    {
      "cell_type": "code",
      "metadata": {
        "id": "mVcYx2DTcfMw"
      },
      "source": [
        "df_train = pd.read_csv('df_train_30.csv', index_col=[0])\n",
        "df_test = pd.read_csv('df_test.csv', index_col=[0])"
      ],
      "execution_count": 2,
      "outputs": []
    },
    {
      "cell_type": "code",
      "metadata": {
        "colab": {
          "base_uri": "https://localhost:8080/",
          "height": 442
        },
        "id": "2sgZvbCgdprJ",
        "outputId": "6582f4a9-c012-4039-eb2e-de0d0a47be23"
      },
      "source": [
        "df_train"
      ],
      "execution_count": 3,
      "outputs": [
        {
          "output_type": "execute_result",
          "data": {
            "text/html": [
              "<div>\n",
              "<style scoped>\n",
              "    .dataframe tbody tr th:only-of-type {\n",
              "        vertical-align: middle;\n",
              "    }\n",
              "\n",
              "    .dataframe tbody tr th {\n",
              "        vertical-align: top;\n",
              "    }\n",
              "\n",
              "    .dataframe thead th {\n",
              "        text-align: right;\n",
              "    }\n",
              "</style>\n",
              "<table border=\"1\" class=\"dataframe\">\n",
              "  <thead>\n",
              "    <tr style=\"text-align: right;\">\n",
              "      <th></th>\n",
              "      <th>ID</th>\n",
              "      <th>Cycle</th>\n",
              "      <th>OpSet1</th>\n",
              "      <th>OpSet2</th>\n",
              "      <th>OpSet3</th>\n",
              "      <th>SensorMeasure2</th>\n",
              "      <th>SensorMeasure3</th>\n",
              "      <th>SensorMeasure4</th>\n",
              "      <th>SensorMeasure7</th>\n",
              "      <th>SensorMeasure8</th>\n",
              "      <th>SensorMeasure9</th>\n",
              "      <th>SensorMeasure11</th>\n",
              "      <th>SensorMeasure12</th>\n",
              "      <th>SensorMeasure13</th>\n",
              "      <th>SensorMeasure14</th>\n",
              "      <th>SensorMeasure15</th>\n",
              "      <th>SensorMeasure20</th>\n",
              "      <th>SensorMeasure21</th>\n",
              "      <th>RUL</th>\n",
              "      <th>label</th>\n",
              "    </tr>\n",
              "  </thead>\n",
              "  <tbody>\n",
              "    <tr>\n",
              "      <th>0</th>\n",
              "      <td>1</td>\n",
              "      <td>1</td>\n",
              "      <td>0.459770</td>\n",
              "      <td>0.166667</td>\n",
              "      <td>0.0</td>\n",
              "      <td>0.183735</td>\n",
              "      <td>0.406802</td>\n",
              "      <td>0.309757</td>\n",
              "      <td>0.726248</td>\n",
              "      <td>0.242424</td>\n",
              "      <td>0.109755</td>\n",
              "      <td>0.369048</td>\n",
              "      <td>0.633262</td>\n",
              "      <td>0.205882</td>\n",
              "      <td>0.199608</td>\n",
              "      <td>0.363986</td>\n",
              "      <td>0.713178</td>\n",
              "      <td>0.724662</td>\n",
              "      <td>191</td>\n",
              "      <td>0</td>\n",
              "    </tr>\n",
              "    <tr>\n",
              "      <th>1</th>\n",
              "      <td>1</td>\n",
              "      <td>2</td>\n",
              "      <td>0.609195</td>\n",
              "      <td>0.250000</td>\n",
              "      <td>0.0</td>\n",
              "      <td>0.283133</td>\n",
              "      <td>0.453019</td>\n",
              "      <td>0.352633</td>\n",
              "      <td>0.628019</td>\n",
              "      <td>0.212121</td>\n",
              "      <td>0.100242</td>\n",
              "      <td>0.380952</td>\n",
              "      <td>0.765458</td>\n",
              "      <td>0.279412</td>\n",
              "      <td>0.162813</td>\n",
              "      <td>0.411312</td>\n",
              "      <td>0.666667</td>\n",
              "      <td>0.731014</td>\n",
              "      <td>190</td>\n",
              "      <td>0</td>\n",
              "    </tr>\n",
              "    <tr>\n",
              "      <th>2</th>\n",
              "      <td>1</td>\n",
              "      <td>3</td>\n",
              "      <td>0.252874</td>\n",
              "      <td>0.750000</td>\n",
              "      <td>0.0</td>\n",
              "      <td>0.343373</td>\n",
              "      <td>0.369523</td>\n",
              "      <td>0.370527</td>\n",
              "      <td>0.710145</td>\n",
              "      <td>0.272727</td>\n",
              "      <td>0.140043</td>\n",
              "      <td>0.250000</td>\n",
              "      <td>0.795309</td>\n",
              "      <td>0.220588</td>\n",
              "      <td>0.171793</td>\n",
              "      <td>0.357445</td>\n",
              "      <td>0.627907</td>\n",
              "      <td>0.621375</td>\n",
              "      <td>189</td>\n",
              "      <td>0</td>\n",
              "    </tr>\n",
              "    <tr>\n",
              "      <th>3</th>\n",
              "      <td>1</td>\n",
              "      <td>4</td>\n",
              "      <td>0.540230</td>\n",
              "      <td>0.500000</td>\n",
              "      <td>0.0</td>\n",
              "      <td>0.343373</td>\n",
              "      <td>0.256159</td>\n",
              "      <td>0.331195</td>\n",
              "      <td>0.740741</td>\n",
              "      <td>0.318182</td>\n",
              "      <td>0.124518</td>\n",
              "      <td>0.166667</td>\n",
              "      <td>0.889126</td>\n",
              "      <td>0.294118</td>\n",
              "      <td>0.174889</td>\n",
              "      <td>0.166603</td>\n",
              "      <td>0.573643</td>\n",
              "      <td>0.662386</td>\n",
              "      <td>188</td>\n",
              "      <td>0</td>\n",
              "    </tr>\n",
              "    <tr>\n",
              "      <th>4</th>\n",
              "      <td>1</td>\n",
              "      <td>5</td>\n",
              "      <td>0.390805</td>\n",
              "      <td>0.333333</td>\n",
              "      <td>0.0</td>\n",
              "      <td>0.349398</td>\n",
              "      <td>0.257467</td>\n",
              "      <td>0.404625</td>\n",
              "      <td>0.668277</td>\n",
              "      <td>0.242424</td>\n",
              "      <td>0.149960</td>\n",
              "      <td>0.255952</td>\n",
              "      <td>0.746269</td>\n",
              "      <td>0.235294</td>\n",
              "      <td>0.174734</td>\n",
              "      <td>0.402078</td>\n",
              "      <td>0.589147</td>\n",
              "      <td>0.704502</td>\n",
              "      <td>187</td>\n",
              "      <td>0</td>\n",
              "    </tr>\n",
              "    <tr>\n",
              "      <th>...</th>\n",
              "      <td>...</td>\n",
              "      <td>...</td>\n",
              "      <td>...</td>\n",
              "      <td>...</td>\n",
              "      <td>...</td>\n",
              "      <td>...</td>\n",
              "      <td>...</td>\n",
              "      <td>...</td>\n",
              "      <td>...</td>\n",
              "      <td>...</td>\n",
              "      <td>...</td>\n",
              "      <td>...</td>\n",
              "      <td>...</td>\n",
              "      <td>...</td>\n",
              "      <td>...</td>\n",
              "      <td>...</td>\n",
              "      <td>...</td>\n",
              "      <td>...</td>\n",
              "      <td>...</td>\n",
              "      <td>...</td>\n",
              "    </tr>\n",
              "    <tr>\n",
              "      <th>20626</th>\n",
              "      <td>100</td>\n",
              "      <td>196</td>\n",
              "      <td>0.477011</td>\n",
              "      <td>0.250000</td>\n",
              "      <td>0.0</td>\n",
              "      <td>0.686747</td>\n",
              "      <td>0.587312</td>\n",
              "      <td>0.782917</td>\n",
              "      <td>0.254428</td>\n",
              "      <td>0.439394</td>\n",
              "      <td>0.196491</td>\n",
              "      <td>0.726190</td>\n",
              "      <td>0.170576</td>\n",
              "      <td>0.558824</td>\n",
              "      <td>0.194344</td>\n",
              "      <td>0.656791</td>\n",
              "      <td>0.271318</td>\n",
              "      <td>0.109500</td>\n",
              "      <td>4</td>\n",
              "      <td>1</td>\n",
              "    </tr>\n",
              "    <tr>\n",
              "      <th>20627</th>\n",
              "      <td>100</td>\n",
              "      <td>197</td>\n",
              "      <td>0.408046</td>\n",
              "      <td>0.083333</td>\n",
              "      <td>0.0</td>\n",
              "      <td>0.701807</td>\n",
              "      <td>0.729453</td>\n",
              "      <td>0.866475</td>\n",
              "      <td>0.162641</td>\n",
              "      <td>0.500000</td>\n",
              "      <td>0.194651</td>\n",
              "      <td>0.708333</td>\n",
              "      <td>0.211087</td>\n",
              "      <td>0.500000</td>\n",
              "      <td>0.188668</td>\n",
              "      <td>0.727203</td>\n",
              "      <td>0.124031</td>\n",
              "      <td>0.366197</td>\n",
              "      <td>3</td>\n",
              "      <td>1</td>\n",
              "    </tr>\n",
              "    <tr>\n",
              "      <th>20628</th>\n",
              "      <td>100</td>\n",
              "      <td>198</td>\n",
              "      <td>0.522989</td>\n",
              "      <td>0.500000</td>\n",
              "      <td>0.0</td>\n",
              "      <td>0.665663</td>\n",
              "      <td>0.684979</td>\n",
              "      <td>0.775321</td>\n",
              "      <td>0.175523</td>\n",
              "      <td>0.515152</td>\n",
              "      <td>0.198196</td>\n",
              "      <td>0.738095</td>\n",
              "      <td>0.281450</td>\n",
              "      <td>0.529412</td>\n",
              "      <td>0.212148</td>\n",
              "      <td>0.922278</td>\n",
              "      <td>0.232558</td>\n",
              "      <td>0.053991</td>\n",
              "      <td>2</td>\n",
              "      <td>1</td>\n",
              "    </tr>\n",
              "    <tr>\n",
              "      <th>20629</th>\n",
              "      <td>100</td>\n",
              "      <td>199</td>\n",
              "      <td>0.436782</td>\n",
              "      <td>0.750000</td>\n",
              "      <td>0.0</td>\n",
              "      <td>0.608434</td>\n",
              "      <td>0.746021</td>\n",
              "      <td>0.747468</td>\n",
              "      <td>0.133655</td>\n",
              "      <td>0.530303</td>\n",
              "      <td>0.233285</td>\n",
              "      <td>0.916667</td>\n",
              "      <td>0.208955</td>\n",
              "      <td>0.514706</td>\n",
              "      <td>0.203065</td>\n",
              "      <td>0.823394</td>\n",
              "      <td>0.116279</td>\n",
              "      <td>0.234466</td>\n",
              "      <td>1</td>\n",
              "      <td>1</td>\n",
              "    </tr>\n",
              "    <tr>\n",
              "      <th>20630</th>\n",
              "      <td>100</td>\n",
              "      <td>200</td>\n",
              "      <td>0.316092</td>\n",
              "      <td>0.083333</td>\n",
              "      <td>0.0</td>\n",
              "      <td>0.795181</td>\n",
              "      <td>0.639634</td>\n",
              "      <td>0.842167</td>\n",
              "      <td>0.151369</td>\n",
              "      <td>0.545455</td>\n",
              "      <td>0.178363</td>\n",
              "      <td>0.803571</td>\n",
              "      <td>0.130064</td>\n",
              "      <td>0.558824</td>\n",
              "      <td>0.192951</td>\n",
              "      <td>0.687572</td>\n",
              "      <td>0.178295</td>\n",
              "      <td>0.218172</td>\n",
              "      <td>0</td>\n",
              "      <td>1</td>\n",
              "    </tr>\n",
              "  </tbody>\n",
              "</table>\n",
              "<p>20631 rows × 20 columns</p>\n",
              "</div>"
            ],
            "text/plain": [
              "        ID  Cycle    OpSet1  ...  SensorMeasure21  RUL  label\n",
              "0        1      1  0.459770  ...         0.724662  191      0\n",
              "1        1      2  0.609195  ...         0.731014  190      0\n",
              "2        1      3  0.252874  ...         0.621375  189      0\n",
              "3        1      4  0.540230  ...         0.662386  188      0\n",
              "4        1      5  0.390805  ...         0.704502  187      0\n",
              "...    ...    ...       ...  ...              ...  ...    ...\n",
              "20626  100    196  0.477011  ...         0.109500    4      1\n",
              "20627  100    197  0.408046  ...         0.366197    3      1\n",
              "20628  100    198  0.522989  ...         0.053991    2      1\n",
              "20629  100    199  0.436782  ...         0.234466    1      1\n",
              "20630  100    200  0.316092  ...         0.218172    0      1\n",
              "\n",
              "[20631 rows x 20 columns]"
            ]
          },
          "metadata": {},
          "execution_count": 3
        }
      ]
    },
    {
      "cell_type": "code",
      "metadata": {
        "colab": {
          "base_uri": "https://localhost:8080/",
          "height": 442
        },
        "id": "9hsGw5XYfJPm",
        "outputId": "d6f02d0b-bfb2-4c5d-8a58-e6a7546e1422"
      },
      "source": [
        "df_test"
      ],
      "execution_count": 4,
      "outputs": [
        {
          "output_type": "execute_result",
          "data": {
            "text/html": [
              "<div>\n",
              "<style scoped>\n",
              "    .dataframe tbody tr th:only-of-type {\n",
              "        vertical-align: middle;\n",
              "    }\n",
              "\n",
              "    .dataframe tbody tr th {\n",
              "        vertical-align: top;\n",
              "    }\n",
              "\n",
              "    .dataframe thead th {\n",
              "        text-align: right;\n",
              "    }\n",
              "</style>\n",
              "<table border=\"1\" class=\"dataframe\">\n",
              "  <thead>\n",
              "    <tr style=\"text-align: right;\">\n",
              "      <th></th>\n",
              "      <th>ID</th>\n",
              "      <th>Cycle</th>\n",
              "      <th>OpSet1</th>\n",
              "      <th>OpSet2</th>\n",
              "      <th>OpSet3</th>\n",
              "      <th>SensorMeasure2</th>\n",
              "      <th>SensorMeasure3</th>\n",
              "      <th>SensorMeasure4</th>\n",
              "      <th>SensorMeasure7</th>\n",
              "      <th>SensorMeasure8</th>\n",
              "      <th>SensorMeasure9</th>\n",
              "      <th>SensorMeasure11</th>\n",
              "      <th>SensorMeasure12</th>\n",
              "      <th>SensorMeasure13</th>\n",
              "      <th>SensorMeasure14</th>\n",
              "      <th>SensorMeasure15</th>\n",
              "      <th>SensorMeasure20</th>\n",
              "      <th>SensorMeasure21</th>\n",
              "      <th>RUL</th>\n",
              "      <th>label</th>\n",
              "    </tr>\n",
              "  </thead>\n",
              "  <tbody>\n",
              "    <tr>\n",
              "      <th>0</th>\n",
              "      <td>1</td>\n",
              "      <td>1</td>\n",
              "      <td>0.632184</td>\n",
              "      <td>0.750000</td>\n",
              "      <td>0.0</td>\n",
              "      <td>0.545181</td>\n",
              "      <td>0.310661</td>\n",
              "      <td>0.269413</td>\n",
              "      <td>0.652174</td>\n",
              "      <td>0.212121</td>\n",
              "      <td>0.127614</td>\n",
              "      <td>0.208333</td>\n",
              "      <td>0.646055</td>\n",
              "      <td>0.220588</td>\n",
              "      <td>0.132160</td>\n",
              "      <td>0.308965</td>\n",
              "      <td>0.558140</td>\n",
              "      <td>0.661834</td>\n",
              "      <td>142</td>\n",
              "      <td>0</td>\n",
              "    </tr>\n",
              "    <tr>\n",
              "      <th>1</th>\n",
              "      <td>1</td>\n",
              "      <td>2</td>\n",
              "      <td>0.344828</td>\n",
              "      <td>0.250000</td>\n",
              "      <td>0.0</td>\n",
              "      <td>0.150602</td>\n",
              "      <td>0.379551</td>\n",
              "      <td>0.222316</td>\n",
              "      <td>0.805153</td>\n",
              "      <td>0.166667</td>\n",
              "      <td>0.146684</td>\n",
              "      <td>0.386905</td>\n",
              "      <td>0.739872</td>\n",
              "      <td>0.264706</td>\n",
              "      <td>0.204768</td>\n",
              "      <td>0.213159</td>\n",
              "      <td>0.682171</td>\n",
              "      <td>0.686827</td>\n",
              "      <td>141</td>\n",
              "      <td>0</td>\n",
              "    </tr>\n",
              "    <tr>\n",
              "      <th>2</th>\n",
              "      <td>1</td>\n",
              "      <td>3</td>\n",
              "      <td>0.517241</td>\n",
              "      <td>0.583333</td>\n",
              "      <td>0.0</td>\n",
              "      <td>0.376506</td>\n",
              "      <td>0.346632</td>\n",
              "      <td>0.322248</td>\n",
              "      <td>0.685990</td>\n",
              "      <td>0.227273</td>\n",
              "      <td>0.158081</td>\n",
              "      <td>0.386905</td>\n",
              "      <td>0.699360</td>\n",
              "      <td>0.220588</td>\n",
              "      <td>0.155640</td>\n",
              "      <td>0.458638</td>\n",
              "      <td>0.728682</td>\n",
              "      <td>0.721348</td>\n",
              "      <td>140</td>\n",
              "      <td>0</td>\n",
              "    </tr>\n",
              "    <tr>\n",
              "      <th>3</th>\n",
              "      <td>1</td>\n",
              "      <td>4</td>\n",
              "      <td>0.741379</td>\n",
              "      <td>0.500000</td>\n",
              "      <td>0.0</td>\n",
              "      <td>0.370482</td>\n",
              "      <td>0.285154</td>\n",
              "      <td>0.408001</td>\n",
              "      <td>0.679549</td>\n",
              "      <td>0.196970</td>\n",
              "      <td>0.105717</td>\n",
              "      <td>0.255952</td>\n",
              "      <td>0.573561</td>\n",
              "      <td>0.250000</td>\n",
              "      <td>0.170090</td>\n",
              "      <td>0.257022</td>\n",
              "      <td>0.666667</td>\n",
              "      <td>0.662110</td>\n",
              "      <td>139</td>\n",
              "      <td>0</td>\n",
              "    </tr>\n",
              "    <tr>\n",
              "      <th>4</th>\n",
              "      <td>1</td>\n",
              "      <td>5</td>\n",
              "      <td>0.580460</td>\n",
              "      <td>0.500000</td>\n",
              "      <td>0.0</td>\n",
              "      <td>0.391566</td>\n",
              "      <td>0.352082</td>\n",
              "      <td>0.332039</td>\n",
              "      <td>0.694042</td>\n",
              "      <td>0.166667</td>\n",
              "      <td>0.102396</td>\n",
              "      <td>0.273810</td>\n",
              "      <td>0.737740</td>\n",
              "      <td>0.220588</td>\n",
              "      <td>0.152751</td>\n",
              "      <td>0.300885</td>\n",
              "      <td>0.658915</td>\n",
              "      <td>0.716377</td>\n",
              "      <td>138</td>\n",
              "      <td>0</td>\n",
              "    </tr>\n",
              "    <tr>\n",
              "      <th>...</th>\n",
              "      <td>...</td>\n",
              "      <td>...</td>\n",
              "      <td>...</td>\n",
              "      <td>...</td>\n",
              "      <td>...</td>\n",
              "      <td>...</td>\n",
              "      <td>...</td>\n",
              "      <td>...</td>\n",
              "      <td>...</td>\n",
              "      <td>...</td>\n",
              "      <td>...</td>\n",
              "      <td>...</td>\n",
              "      <td>...</td>\n",
              "      <td>...</td>\n",
              "      <td>...</td>\n",
              "      <td>...</td>\n",
              "      <td>...</td>\n",
              "      <td>...</td>\n",
              "      <td>...</td>\n",
              "      <td>...</td>\n",
              "    </tr>\n",
              "    <tr>\n",
              "      <th>13091</th>\n",
              "      <td>100</td>\n",
              "      <td>194</td>\n",
              "      <td>0.781609</td>\n",
              "      <td>0.500000</td>\n",
              "      <td>0.0</td>\n",
              "      <td>0.611446</td>\n",
              "      <td>0.619359</td>\n",
              "      <td>0.566172</td>\n",
              "      <td>0.573269</td>\n",
              "      <td>0.181818</td>\n",
              "      <td>0.541326</td>\n",
              "      <td>0.500000</td>\n",
              "      <td>0.426439</td>\n",
              "      <td>0.176471</td>\n",
              "      <td>0.584890</td>\n",
              "      <td>0.564063</td>\n",
              "      <td>0.395349</td>\n",
              "      <td>0.418669</td>\n",
              "      <td>24</td>\n",
              "      <td>1</td>\n",
              "    </tr>\n",
              "    <tr>\n",
              "      <th>13092</th>\n",
              "      <td>100</td>\n",
              "      <td>195</td>\n",
              "      <td>0.436782</td>\n",
              "      <td>0.416667</td>\n",
              "      <td>0.0</td>\n",
              "      <td>0.605422</td>\n",
              "      <td>0.537388</td>\n",
              "      <td>0.671843</td>\n",
              "      <td>0.542673</td>\n",
              "      <td>0.227273</td>\n",
              "      <td>0.533743</td>\n",
              "      <td>0.446429</td>\n",
              "      <td>0.503198</td>\n",
              "      <td>0.308824</td>\n",
              "      <td>0.572350</td>\n",
              "      <td>0.485956</td>\n",
              "      <td>0.333333</td>\n",
              "      <td>0.528721</td>\n",
              "      <td>23</td>\n",
              "      <td>1</td>\n",
              "    </tr>\n",
              "    <tr>\n",
              "      <th>13093</th>\n",
              "      <td>100</td>\n",
              "      <td>196</td>\n",
              "      <td>0.465517</td>\n",
              "      <td>0.250000</td>\n",
              "      <td>0.0</td>\n",
              "      <td>0.671687</td>\n",
              "      <td>0.482014</td>\n",
              "      <td>0.414754</td>\n",
              "      <td>0.513688</td>\n",
              "      <td>0.318182</td>\n",
              "      <td>0.561249</td>\n",
              "      <td>0.428571</td>\n",
              "      <td>0.530917</td>\n",
              "      <td>0.235294</td>\n",
              "      <td>0.605326</td>\n",
              "      <td>0.507888</td>\n",
              "      <td>0.372093</td>\n",
              "      <td>0.429301</td>\n",
              "      <td>22</td>\n",
              "      <td>1</td>\n",
              "    </tr>\n",
              "    <tr>\n",
              "      <th>13094</th>\n",
              "      <td>100</td>\n",
              "      <td>197</td>\n",
              "      <td>0.281609</td>\n",
              "      <td>0.583333</td>\n",
              "      <td>0.0</td>\n",
              "      <td>0.617470</td>\n",
              "      <td>0.522128</td>\n",
              "      <td>0.626435</td>\n",
              "      <td>0.566828</td>\n",
              "      <td>0.257576</td>\n",
              "      <td>0.570403</td>\n",
              "      <td>0.452381</td>\n",
              "      <td>0.562900</td>\n",
              "      <td>0.294118</td>\n",
              "      <td>0.622046</td>\n",
              "      <td>0.562524</td>\n",
              "      <td>0.403101</td>\n",
              "      <td>0.518779</td>\n",
              "      <td>21</td>\n",
              "      <td>1</td>\n",
              "    </tr>\n",
              "    <tr>\n",
              "      <th>13095</th>\n",
              "      <td>100</td>\n",
              "      <td>198</td>\n",
              "      <td>0.574713</td>\n",
              "      <td>0.750000</td>\n",
              "      <td>0.0</td>\n",
              "      <td>0.524096</td>\n",
              "      <td>0.666667</td>\n",
              "      <td>0.721472</td>\n",
              "      <td>0.423510</td>\n",
              "      <td>0.242424</td>\n",
              "      <td>0.598133</td>\n",
              "      <td>0.565476</td>\n",
              "      <td>0.507463</td>\n",
              "      <td>0.250000</td>\n",
              "      <td>0.591908</td>\n",
              "      <td>0.636399</td>\n",
              "      <td>0.434109</td>\n",
              "      <td>0.402237</td>\n",
              "      <td>20</td>\n",
              "      <td>1</td>\n",
              "    </tr>\n",
              "  </tbody>\n",
              "</table>\n",
              "<p>13096 rows × 20 columns</p>\n",
              "</div>"
            ],
            "text/plain": [
              "        ID  Cycle    OpSet1  ...  SensorMeasure21  RUL  label\n",
              "0        1      1  0.632184  ...         0.661834  142      0\n",
              "1        1      2  0.344828  ...         0.686827  141      0\n",
              "2        1      3  0.517241  ...         0.721348  140      0\n",
              "3        1      4  0.741379  ...         0.662110  139      0\n",
              "4        1      5  0.580460  ...         0.716377  138      0\n",
              "...    ...    ...       ...  ...              ...  ...    ...\n",
              "13091  100    194  0.781609  ...         0.418669   24      1\n",
              "13092  100    195  0.436782  ...         0.528721   23      1\n",
              "13093  100    196  0.465517  ...         0.429301   22      1\n",
              "13094  100    197  0.281609  ...         0.518779   21      1\n",
              "13095  100    198  0.574713  ...         0.402237   20      1\n",
              "\n",
              "[13096 rows x 20 columns]"
            ]
          },
          "metadata": {},
          "execution_count": 4
        }
      ]
    },
    {
      "cell_type": "markdown",
      "metadata": {
        "id": "6b1Mk1_9f9QL"
      },
      "source": [
        "# **Separando os dados em atributos e classes**"
      ]
    },
    {
      "cell_type": "code",
      "metadata": {
        "id": "Qboof3J0gE8S"
      },
      "source": [
        "# Separando os atributos e a classe do conjunto de treino\n",
        "df_train_x = df_train.iloc[:,5:18].values\n",
        "df_train_y = df_train['label'].values"
      ],
      "execution_count": 5,
      "outputs": []
    },
    {
      "cell_type": "code",
      "metadata": {
        "id": "FmgV8-by5lSX"
      },
      "source": [
        "# Separando os atributos e a classe do conjunto de teste\n",
        "df_test_x = df_test.iloc[:,5:18].values\n",
        "df_test_y = df_test['label'].values"
      ],
      "execution_count": 6,
      "outputs": []
    },
    {
      "cell_type": "code",
      "metadata": {
        "id": "QuJjqc31ggIn"
      },
      "source": [
        "# Divisão entre treino e teste\n",
        "df_train_x_treinamento, df_train_x_teste, df_train_y_treinamento, df_train_y_teste = train_test_split(df_train_x, df_train_y, test_size = 0.25, random_state = 0)"
      ],
      "execution_count": 7,
      "outputs": []
    },
    {
      "cell_type": "markdown",
      "metadata": {
        "id": "DJNjhS_Zgw2w"
      },
      "source": [
        "# **Treinando modelo sem parâmetros otimizados**"
      ]
    },
    {
      "cell_type": "code",
      "metadata": {
        "id": "k5fJXi3zg4e2"
      },
      "source": [
        "# Light GBM\n",
        "lgbm = lightgbm.LGBMClassifier()\n",
        "lgbm.fit(df_train_x_treinamento, df_train_y_treinamento)\n",
        "previsao= lgbm.predict(df_train_x_teste)"
      ],
      "execution_count": 8,
      "outputs": []
    },
    {
      "cell_type": "code",
      "metadata": {
        "colab": {
          "base_uri": "https://localhost:8080/"
        },
        "id": "95FnYL0uh1aD",
        "outputId": "89845ecf-7b8d-4629-b1f4-98e858a9c8b9"
      },
      "source": [
        "accuracy_score(df_train_y_teste, previsao)"
      ],
      "execution_count": 9,
      "outputs": [
        {
          "output_type": "execute_result",
          "data": {
            "text/plain": [
              "0.9606436603334626"
            ]
          },
          "metadata": {},
          "execution_count": 9
        }
      ]
    },
    {
      "cell_type": "code",
      "metadata": {
        "colab": {
          "base_uri": "https://localhost:8080/",
          "height": 279
        },
        "id": "px2cmr0_kCW5",
        "outputId": "d797f9ba-7b9c-449a-9a96-8faeb7f09db5"
      },
      "source": [
        "cm = ConfusionMatrix(lgbm)\n",
        "cm.fit(df_train_x_treinamento, df_train_y_treinamento)\n",
        "cm.score(df_train_x_teste, df_train_y_teste)"
      ],
      "execution_count": 10,
      "outputs": [
        {
          "output_type": "execute_result",
          "data": {
            "text/plain": [
              "0.9606436603334626"
            ]
          },
          "metadata": {},
          "execution_count": 10
        },
        {
          "output_type": "display_data",
          "data": {
            "image/png": "[encoded data removed]",
            "text/plain": [
              "<Figure size 432x288 with 1 Axes>"
            ]
          },
          "metadata": {
            "needs_background": "light"
          }
        }
      ]
    },
    {
      "cell_type": "code",
      "metadata": {
        "colab": {
          "base_uri": "https://localhost:8080/"
        },
        "id": "y2GBoiILk3P-",
        "outputId": "618d9947-7364-4444-b776-f840b6b28f93"
      },
      "source": [
        "print(classification_report(df_train_y_teste, previsao))"
      ],
      "execution_count": 11,
      "outputs": [
        {
          "output_type": "stream",
          "name": "stdout",
          "text": [
            "              precision    recall  f1-score   support\n",
            "\n",
            "           0       0.97      0.98      0.98      4409\n",
            "           1       0.88      0.84      0.86       749\n",
            "\n",
            "    accuracy                           0.96      5158\n",
            "   macro avg       0.93      0.91      0.92      5158\n",
            "weighted avg       0.96      0.96      0.96      5158\n",
            "\n"
          ]
        }
      ]
    },
    {
      "cell_type": "markdown",
      "metadata": {
        "id": "D4VwIF4KlFub"
      },
      "source": [
        "# **Otimização dos parâmetros no gridsearch**"
      ]
    },
    {
      "cell_type": "code",
      "metadata": {
        "id": "7o4xv4KulHrf"
      },
      "source": [
        "parametros= {'num_leaves': [50, 100, 31],\n",
        "             'learning_rate': [0.5, 1.0, 0.1],\n",
        "             'n_estimators': [100, 150, 200],\n",
        "             'min_split_gain': [0, 0.5, 1.0],\n",
        "             'max_depth': [-1, -2, 5, 10],\n",
        "             'min_child_samples': [20, 30, 40]}"
      ],
      "execution_count": null,
      "outputs": []
    },
    {
      "cell_type": "code",
      "metadata": {
        "colab": {
          "base_uri": "https://localhost:8080/"
        },
        "id": "yCb9gjW8lMCX",
        "outputId": "84cc016d-fbb0-4803-b62c-adf322c01783"
      },
      "source": [
        "grid_search = GridSearchCV(estimator=lightgbm.LGBMClassifier(), param_grid=parametros)\n",
        "grid_search.fit(df_train_x, df_train_y)\n",
        "melhores_parametros = grid_search.best_params_\n",
        "melhor_resultado = grid_search.best_score_\n",
        "print(melhores_parametros)\n",
        "print(melhor_resultado)"
      ],
      "execution_count": null,
      "outputs": [
        {
          "output_type": "stream",
          "name": "stdout",
          "text": [
            "{'learning_rate': 0.1, 'max_depth': 10, 'min_child_samples': 40, 'min_split_gain': 1.0, 'n_estimators': 100, 'num_leaves': 31}\n",
            "0.9601081207296076\n"
          ]
        }
      ]
    },
    {
      "cell_type": "markdown",
      "metadata": {
        "id": "O_AZBFib0RFh"
      },
      "source": [
        "# **Treinando modelo com parâmetros otimizados**"
      ]
    },
    {
      "cell_type": "code",
      "metadata": {
        "id": "yTmuLSlO0Z6-"
      },
      "source": [
        "lgbm = lightgbm.LGBMClassifier(num_leaves= 31, learning_rate= 0.1, max_depth= 10, min_split_gain= 1.0, n_estimators= 100, min_child_samples= 40)\n",
        "lgbm.fit(df_train_x_treinamento, df_train_y_treinamento)\n",
        "previsao= lgbm.predict(df_train_x_teste)"
      ],
      "execution_count": 12,
      "outputs": []
    },
    {
      "cell_type": "code",
      "metadata": {
        "colab": {
          "base_uri": "https://localhost:8080/"
        },
        "id": "gTTmapJo0ciB",
        "outputId": "24780ed6-107c-4d39-a183-9a55306a25e2"
      },
      "source": [
        "accuracy_score(df_train_y_teste, previsao)"
      ],
      "execution_count": 13,
      "outputs": [
        {
          "output_type": "execute_result",
          "data": {
            "text/plain": [
              "0.9610314075222954"
            ]
          },
          "metadata": {},
          "execution_count": 13
        }
      ]
    },
    {
      "cell_type": "code",
      "metadata": {
        "colab": {
          "base_uri": "https://localhost:8080/",
          "height": 279
        },
        "id": "FyEYpX2r0eth",
        "outputId": "883a8647-59e5-4606-9584-bc3b9fc47c2a"
      },
      "source": [
        "cm = ConfusionMatrix(lgbm)\n",
        "cm.fit(df_train_x_treinamento, df_train_y_treinamento)\n",
        "cm.score(df_train_x_teste, df_train_y_teste)"
      ],
      "execution_count": 14,
      "outputs": [
        {
          "output_type": "execute_result",
          "data": {
            "text/plain": [
              "0.9610314075222954"
            ]
          },
          "metadata": {},
          "execution_count": 14
        },
        {
          "output_type": "display_data",
          "data": {
            "image/png": "[encoded data removed]",
            "text/plain": [
              "<Figure size 432x288 with 1 Axes>"
            ]
          },
          "metadata": {
            "needs_background": "light"
          }
        }
      ]
    },
    {
      "cell_type": "code",
      "metadata": {
        "colab": {
          "base_uri": "https://localhost:8080/"
        },
        "id": "czJFUqkp0gsO",
        "outputId": "ae0d85cf-6f1c-4023-f0ec-94e6a6cfd8ed"
      },
      "source": [
        "print(classification_report(df_train_y_teste, previsao))"
      ],
      "execution_count": 15,
      "outputs": [
        {
          "output_type": "stream",
          "name": "stdout",
          "text": [
            "              precision    recall  f1-score   support\n",
            "\n",
            "           0       0.97      0.98      0.98      4409\n",
            "           1       0.88      0.85      0.86       749\n",
            "\n",
            "    accuracy                           0.96      5158\n",
            "   macro avg       0.93      0.91      0.92      5158\n",
            "weighted avg       0.96      0.96      0.96      5158\n",
            "\n"
          ]
        }
      ]
    },
    {
      "cell_type": "markdown",
      "metadata": {
        "id": "QY4FcycKrkaS"
      },
      "source": [
        "# **Analisando o modelo otimizado com parâmetro de peso de classe adicionado depois**"
      ]
    },
    {
      "cell_type": "code",
      "metadata": {
        "id": "bz2i9lgbrV3R"
      },
      "source": [
        "lgbm = lightgbm.LGBMClassifier(num_leaves= 31, learning_rate= 0.1, max_depth= 10, min_split_gain= 1.0, n_estimators= 100, min_child_samples= 40, class_weight= 'balanced')\n",
        "lgbm.fit(df_train_x_treinamento, df_train_y_treinamento)\n",
        "previsao= lgbm.predict(df_train_x_teste)"
      ],
      "execution_count": 16,
      "outputs": []
    },
    {
      "cell_type": "code",
      "metadata": {
        "colab": {
          "base_uri": "https://localhost:8080/"
        },
        "id": "UhupSogWsC-H",
        "outputId": "abd277ff-49ff-48cc-ef31-3f77d166584e"
      },
      "source": [
        "accuracy_score(df_train_y_teste, previsao)"
      ],
      "execution_count": 17,
      "outputs": [
        {
          "output_type": "execute_result",
          "data": {
            "text/plain": [
              "0.9451337727801473"
            ]
          },
          "metadata": {},
          "execution_count": 17
        }
      ]
    },
    {
      "cell_type": "code",
      "metadata": {
        "colab": {
          "base_uri": "https://localhost:8080/",
          "height": 279
        },
        "id": "FR8q0zOtsKeL",
        "outputId": "52c04715-6de5-4269-85c8-58f6d82a1bbc"
      },
      "source": [
        "cm = ConfusionMatrix(lgbm)\n",
        "cm.fit(df_train_x_treinamento, df_train_y_treinamento)\n",
        "cm.score(df_train_x_teste, df_train_y_teste)"
      ],
      "execution_count": 18,
      "outputs": [
        {
          "output_type": "execute_result",
          "data": {
            "text/plain": [
              "0.9451337727801473"
            ]
          },
          "metadata": {},
          "execution_count": 18
        },
        {
          "output_type": "display_data",
          "data": {
            "image/png": "[encoded data removed]",
            "text/plain": [
              "<Figure size 432x288 with 1 Axes>"
            ]
          },
          "metadata": {
            "needs_background": "light"
          }
        }
      ]
    },
    {
      "cell_type": "code",
      "metadata": {
        "colab": {
          "base_uri": "https://localhost:8080/"
        },
        "id": "Bz6hPL_ksN_2",
        "outputId": "14f621ab-f20e-499c-aacf-f08ffdd8b803"
      },
      "source": [
        "print(classification_report(df_train_y_teste, previsao))"
      ],
      "execution_count": 19,
      "outputs": [
        {
          "output_type": "stream",
          "name": "stdout",
          "text": [
            "              precision    recall  f1-score   support\n",
            "\n",
            "           0       0.99      0.95      0.97      4409\n",
            "           1       0.76      0.92      0.83       749\n",
            "\n",
            "    accuracy                           0.95      5158\n",
            "   macro avg       0.87      0.93      0.90      5158\n",
            "weighted avg       0.95      0.95      0.95      5158\n",
            "\n"
          ]
        }
      ]
    },
    {
      "cell_type": "markdown",
      "metadata": {
        "id": "Wolp793mslHQ"
      },
      "source": [
        "# **Usando gridsearch com o parâmetro de peso de classe**"
      ]
    },
    {
      "cell_type": "code",
      "metadata": {
        "id": "hojwlh1jssv0"
      },
      "source": [
        "parametros= {'num_leaves': [50, 100, 31],\n",
        "             'learning_rate': [0.5, 1.0, 0.1],\n",
        "             'n_estimators': [100, 150, 200],\n",
        "             'min_split_gain': [0, 0.5, 1.0],\n",
        "             'max_depth': [-1, -2, 5, 10],\n",
        "             'min_child_samples': [20, 30, 40],\n",
        "             'class_weight': ['balanced']}"
      ],
      "execution_count": 20,
      "outputs": []
    },
    {
      "cell_type": "code",
      "metadata": {
        "colab": {
          "base_uri": "https://localhost:8080/"
        },
        "id": "zVJ3URlxs9VH",
        "outputId": "3d33082c-2433-4ee3-92e7-c40565b26d09"
      },
      "source": [
        "grid_search = GridSearchCV(estimator=lightgbm.LGBMClassifier(), param_grid=parametros)\n",
        "grid_search.fit(df_train_x, df_train_y)\n",
        "melhores_parametros = grid_search.best_params_\n",
        "melhor_resultado = grid_search.best_score_\n",
        "print(melhores_parametros)\n",
        "print(melhor_resultado)"
      ],
      "execution_count": 21,
      "outputs": [
        {
          "output_type": "stream",
          "name": "stdout",
          "text": [
            "{'class_weight': 'balanced', 'learning_rate': 0.1, 'max_depth': -1, 'min_child_samples': 30, 'min_split_gain': 0, 'n_estimators': 200, 'num_leaves': 100}\n",
            "0.9569089432806033\n"
          ]
        }
      ]
    },
    {
      "cell_type": "markdown",
      "metadata": {
        "id": "q8TtGOSixg1V"
      },
      "source": [
        "# **Aplicando os parametros otimizados ao modelo com função de custo**"
      ]
    },
    {
      "cell_type": "code",
      "metadata": {
        "id": "2RxXFAXrxYp3"
      },
      "source": [
        "lgbm = lightgbm.LGBMClassifier(num_leaves= 100, learning_rate= 0.1, max_depth= -1, min_split_gain= 0, n_estimators= 200, min_child_samples= 30, class_weight= 'balanced')\n",
        "lgbm.fit(df_train_x_treinamento, df_train_y_treinamento)\n",
        "previsao= lgbm.predict(df_train_x_teste)"
      ],
      "execution_count": 22,
      "outputs": []
    },
    {
      "cell_type": "code",
      "metadata": {
        "colab": {
          "base_uri": "https://localhost:8080/"
        },
        "id": "tmj-K5WIx29v",
        "outputId": "ec91fc4e-cf28-4765-b82a-9157cceedbfb"
      },
      "source": [
        "accuracy_score(df_train_y_teste, previsao)"
      ],
      "execution_count": 23,
      "outputs": [
        {
          "output_type": "execute_result",
          "data": {
            "text/plain": [
              "0.957735556417216"
            ]
          },
          "metadata": {},
          "execution_count": 23
        }
      ]
    },
    {
      "cell_type": "code",
      "metadata": {
        "colab": {
          "base_uri": "https://localhost:8080/",
          "height": 279
        },
        "id": "Yzj7GuSgx5sp",
        "outputId": "cfdf87f4-0577-496f-8b12-b11bac64c431"
      },
      "source": [
        "cm = ConfusionMatrix(lgbm)\n",
        "cm.fit(df_train_x_treinamento, df_train_y_treinamento)\n",
        "cm.score(df_train_x_teste, df_train_y_teste)"
      ],
      "execution_count": 24,
      "outputs": [
        {
          "output_type": "execute_result",
          "data": {
            "text/plain": [
              "0.957735556417216"
            ]
          },
          "metadata": {},
          "execution_count": 24
        },
        {
          "output_type": "display_data",
          "data": {
            "image/png": "[encoded data removed]",
            "text/plain": [
              "<Figure size 432x288 with 1 Axes>"
            ]
          },
          "metadata": {
            "needs_background": "light"
          }
        }
      ]
    },
    {
      "cell_type": "code",
      "metadata": {
        "colab": {
          "base_uri": "https://localhost:8080/"
        },
        "id": "-1riyUXOyG97",
        "outputId": "88d09b7f-510e-4dad-c009-ce728aafc585"
      },
      "source": [
        "print(classification_report(df_train_y_teste, previsao))"
      ],
      "execution_count": 25,
      "outputs": [
        {
          "output_type": "stream",
          "name": "stdout",
          "text": [
            "              precision    recall  f1-score   support\n",
            "\n",
            "           0       0.97      0.98      0.98      4409\n",
            "           1       0.86      0.85      0.85       749\n",
            "\n",
            "    accuracy                           0.96      5158\n",
            "   macro avg       0.92      0.91      0.91      5158\n",
            "weighted avg       0.96      0.96      0.96      5158\n",
            "\n"
          ]
        }
      ]
    },
    {
      "cell_type": "markdown",
      "metadata": {
        "id": "M66SJgf2zE5X"
      },
      "source": [
        "# **Validação cruzada**"
      ]
    },
    {
      "cell_type": "code",
      "metadata": {
        "id": "TmDgr6-bzD1w"
      },
      "source": [
        "resultados_lgbm = []\n",
        "resultados_lgbmfc = []\n",
        "resultados_lgbmfco = []\n",
        "\n",
        "for i in range(10):\n",
        "  kfold = KFold(n_splits=10, shuffle=True, random_state=i)\n",
        "  \n",
        "  #modelo com parâmetros otimizados sem peso de classe\n",
        "  lgbm = lightgbm.LGBMClassifier(num_leaves= 31, learning_rate= 0.1, max_depth= 10, min_split_gain= 1.0, n_estimators= 100, min_child_samples= 40)\n",
        "  scores = cross_val_score(lgbm, df_train_x, df_train_y, cv = kfold)\n",
        "  resultados_lgbm.append(scores.mean())\n",
        "\n",
        "  #modelo com parâmetros otimizados com peso de classe\n",
        "  lgbmfc = lightgbm.LGBMClassifier(num_leaves= 100, learning_rate= 0.1, max_depth= -1, min_split_gain= 0, n_estimators= 200, min_child_samples= 30, class_weight= 'balanced')\n",
        "  scores = cross_val_score(lgbmfc, df_train_x, df_train_y, cv = kfold)\n",
        "  resultados_lgbmfc.append(scores.mean())\n",
        "\n",
        "  #modelo com parâmetros otimizados com peso de classe adicionado depois\n",
        "  lgbmfco = lightgbm.LGBMClassifier(num_leaves= 31, learning_rate= 0.1, max_depth= 10, min_split_gain= 1.0, n_estimators= 100, min_child_samples= 40, class_weight= 'balanced')\n",
        "  scores = cross_val_score(lgbmfco, df_train_x, df_train_y, cv = kfold)\n",
        "  resultados_lgbmfco.append(scores.mean())"
      ],
      "execution_count": null,
      "outputs": []
    },
    {
      "cell_type": "code",
      "metadata": {
        "colab": {
          "base_uri": "https://localhost:8080/",
          "height": 362
        },
        "id": "YUDQLPdv0zQL",
        "outputId": "d17cdcc2-464c-4fd1-cb2e-4538f28051b2"
      },
      "source": [
        "resultados = pd.DataFrame({'Lgbm': resultados_lgbm, 'lgbmfc': resultados_lgbmfc, 'lgbmfco': resultados_lgbmfco})\n",
        "resultados"
      ],
      "execution_count": null,
      "outputs": [
        {
          "output_type": "execute_result",
          "data": {
            "text/html": [
              "<div>\n",
              "<style scoped>\n",
              "    .dataframe tbody tr th:only-of-type {\n",
              "        vertical-align: middle;\n",
              "    }\n",
              "\n",
              "    .dataframe tbody tr th {\n",
              "        vertical-align: top;\n",
              "    }\n",
              "\n",
              "    .dataframe thead th {\n",
              "        text-align: right;\n",
              "    }\n",
              "</style>\n",
              "<table border=\"1\" class=\"dataframe\">\n",
              "  <thead>\n",
              "    <tr style=\"text-align: right;\">\n",
              "      <th></th>\n",
              "      <th>Lgbm</th>\n",
              "      <th>lgbmfc</th>\n",
              "      <th>lgbmfco</th>\n",
              "    </tr>\n",
              "  </thead>\n",
              "  <tbody>\n",
              "    <tr>\n",
              "      <th>0</th>\n",
              "      <td>0.960787</td>\n",
              "      <td>0.958121</td>\n",
              "      <td>0.947264</td>\n",
              "    </tr>\n",
              "    <tr>\n",
              "      <th>1</th>\n",
              "      <td>0.959818</td>\n",
              "      <td>0.958509</td>\n",
              "      <td>0.948282</td>\n",
              "    </tr>\n",
              "    <tr>\n",
              "      <th>2</th>\n",
              "      <td>0.960302</td>\n",
              "      <td>0.958800</td>\n",
              "      <td>0.948136</td>\n",
              "    </tr>\n",
              "    <tr>\n",
              "      <th>3</th>\n",
              "      <td>0.961272</td>\n",
              "      <td>0.958218</td>\n",
              "      <td>0.948088</td>\n",
              "    </tr>\n",
              "    <tr>\n",
              "      <th>4</th>\n",
              "      <td>0.961030</td>\n",
              "      <td>0.958170</td>\n",
              "      <td>0.948282</td>\n",
              "    </tr>\n",
              "    <tr>\n",
              "      <th>5</th>\n",
              "      <td>0.960399</td>\n",
              "      <td>0.959139</td>\n",
              "      <td>0.948039</td>\n",
              "    </tr>\n",
              "    <tr>\n",
              "      <th>6</th>\n",
              "      <td>0.961078</td>\n",
              "      <td>0.958994</td>\n",
              "      <td>0.947652</td>\n",
              "    </tr>\n",
              "    <tr>\n",
              "      <th>7</th>\n",
              "      <td>0.960787</td>\n",
              "      <td>0.958363</td>\n",
              "      <td>0.947554</td>\n",
              "    </tr>\n",
              "    <tr>\n",
              "      <th>8</th>\n",
              "      <td>0.960642</td>\n",
              "      <td>0.959237</td>\n",
              "      <td>0.947313</td>\n",
              "    </tr>\n",
              "    <tr>\n",
              "      <th>9</th>\n",
              "      <td>0.960787</td>\n",
              "      <td>0.958800</td>\n",
              "      <td>0.948281</td>\n",
              "    </tr>\n",
              "  </tbody>\n",
              "</table>\n",
              "</div>"
            ],
            "text/plain": [
              "       Lgbm    lgbmfc   lgbmfco\n",
              "0  0.960787  0.958121  0.947264\n",
              "1  0.959818  0.958509  0.948282\n",
              "2  0.960302  0.958800  0.948136\n",
              "3  0.961272  0.958218  0.948088\n",
              "4  0.961030  0.958170  0.948282\n",
              "5  0.960399  0.959139  0.948039\n",
              "6  0.961078  0.958994  0.947652\n",
              "7  0.960787  0.958363  0.947554\n",
              "8  0.960642  0.959237  0.947313\n",
              "9  0.960787  0.958800  0.948281"
            ]
          },
          "metadata": {},
          "execution_count": 57
        }
      ]
    },
    {
      "cell_type": "code",
      "metadata": {
        "colab": {
          "base_uri": "https://localhost:8080/",
          "height": 299
        },
        "id": "8yBOQc192cLB",
        "outputId": "8b4ac397-359e-47c0-95cb-803fbe9bf3ae"
      },
      "source": [
        "resultados.describe()"
      ],
      "execution_count": null,
      "outputs": [
        {
          "output_type": "execute_result",
          "data": {
            "text/html": [
              "<div>\n",
              "<style scoped>\n",
              "    .dataframe tbody tr th:only-of-type {\n",
              "        vertical-align: middle;\n",
              "    }\n",
              "\n",
              "    .dataframe tbody tr th {\n",
              "        vertical-align: top;\n",
              "    }\n",
              "\n",
              "    .dataframe thead th {\n",
              "        text-align: right;\n",
              "    }\n",
              "</style>\n",
              "<table border=\"1\" class=\"dataframe\">\n",
              "  <thead>\n",
              "    <tr style=\"text-align: right;\">\n",
              "      <th></th>\n",
              "      <th>Lgbm</th>\n",
              "      <th>lgbmfc</th>\n",
              "      <th>lgbmfco</th>\n",
              "    </tr>\n",
              "  </thead>\n",
              "  <tbody>\n",
              "    <tr>\n",
              "      <th>count</th>\n",
              "      <td>10.000000</td>\n",
              "      <td>10.000000</td>\n",
              "      <td>10.000000</td>\n",
              "    </tr>\n",
              "    <tr>\n",
              "      <th>mean</th>\n",
              "      <td>0.960690</td>\n",
              "      <td>0.958635</td>\n",
              "      <td>0.947889</td>\n",
              "    </tr>\n",
              "    <tr>\n",
              "      <th>std</th>\n",
              "      <td>0.000426</td>\n",
              "      <td>0.000414</td>\n",
              "      <td>0.000405</td>\n",
              "    </tr>\n",
              "    <tr>\n",
              "      <th>min</th>\n",
              "      <td>0.959818</td>\n",
              "      <td>0.958121</td>\n",
              "      <td>0.947264</td>\n",
              "    </tr>\n",
              "    <tr>\n",
              "      <th>25%</th>\n",
              "      <td>0.960460</td>\n",
              "      <td>0.958254</td>\n",
              "      <td>0.947579</td>\n",
              "    </tr>\n",
              "    <tr>\n",
              "      <th>50%</th>\n",
              "      <td>0.960787</td>\n",
              "      <td>0.958654</td>\n",
              "      <td>0.948064</td>\n",
              "    </tr>\n",
              "    <tr>\n",
              "      <th>75%</th>\n",
              "      <td>0.960969</td>\n",
              "      <td>0.958945</td>\n",
              "      <td>0.948245</td>\n",
              "    </tr>\n",
              "    <tr>\n",
              "      <th>max</th>\n",
              "      <td>0.961272</td>\n",
              "      <td>0.959237</td>\n",
              "      <td>0.948282</td>\n",
              "    </tr>\n",
              "  </tbody>\n",
              "</table>\n",
              "</div>"
            ],
            "text/plain": [
              "            Lgbm     lgbmfc    lgbmfco\n",
              "count  10.000000  10.000000  10.000000\n",
              "mean    0.960690   0.958635   0.947889\n",
              "std     0.000426   0.000414   0.000405\n",
              "min     0.959818   0.958121   0.947264\n",
              "25%     0.960460   0.958254   0.947579\n",
              "50%     0.960787   0.958654   0.948064\n",
              "75%     0.960969   0.958945   0.948245\n",
              "max     0.961272   0.959237   0.948282"
            ]
          },
          "metadata": {},
          "execution_count": 58
        }
      ]
    },
    {
      "cell_type": "code",
      "metadata": {
        "colab": {
          "base_uri": "https://localhost:8080/"
        },
        "id": "TYrj1P_r2ggp",
        "outputId": "2e0dff0f-d8a6-40b1-d621-7da4137d4321"
      },
      "source": [
        "# Variância\n",
        "resultados.var()"
      ],
      "execution_count": null,
      "outputs": [
        {
          "output_type": "execute_result",
          "data": {
            "text/plain": [
              "Lgbm       1.811129e-07\n",
              "lgbmfc     1.713988e-07\n",
              "lgbmfco    1.641210e-07\n",
              "dtype: float64"
            ]
          },
          "metadata": {},
          "execution_count": 59
        }
      ]
    },
    {
      "cell_type": "code",
      "metadata": {
        "colab": {
          "base_uri": "https://localhost:8080/"
        },
        "id": "MKRlr1kn2iaw",
        "outputId": "61278556-c116-4b62-ff56-4f3fb05f9b3a"
      },
      "source": [
        "# % de variância\n",
        "(resultados.std() / resultados.mean()) * 100"
      ],
      "execution_count": null,
      "outputs": [
        {
          "output_type": "execute_result",
          "data": {
            "text/plain": [
              "Lgbm       0.044299\n",
              "lgbmfc     0.043187\n",
              "lgbmfco    0.042739\n",
              "dtype: float64"
            ]
          },
          "metadata": {},
          "execution_count": 60
        }
      ]
    },
    {
      "cell_type": "markdown",
      "metadata": {
        "id": "zWxtTv_U4raR"
      },
      "source": [
        "# **Avaliando os modelos nos conjundos de dados de teste**"
      ]
    },
    {
      "cell_type": "code",
      "metadata": {
        "colab": {
          "base_uri": "https://localhost:8080/"
        },
        "id": "9X3Lh7W62oAf",
        "outputId": "05629b10-3fe1-47b9-d81a-bd1c8f8d6e14"
      },
      "source": [
        "# modelo sem parâmetro de peso de classe\n",
        "\n",
        "lgbm = lightgbm.LGBMClassifier(num_leaves= 31, learning_rate= 0.1, max_depth= 10, min_split_gain= 1.0, n_estimators= 100, min_child_samples= 40)\n",
        "lgbm.fit(df_train_x, df_train_y)"
      ],
      "execution_count": null,
      "outputs": [
        {
          "output_type": "execute_result",
          "data": {
            "text/plain": [
              "LGBMClassifier(boosting_type='gbdt', class_weight=None, colsample_bytree=1.0,\n",
              "               importance_type='split', learning_rate=0.1, max_depth=10,\n",
              "               min_child_samples=40, min_child_weight=0.001, min_split_gain=1.0,\n",
              "               n_estimators=100, n_jobs=-1, num_leaves=31, objective=None,\n",
              "               random_state=None, reg_alpha=0.0, reg_lambda=0.0, silent=True,\n",
              "               subsample=1.0, subsample_for_bin=200000, subsample_freq=0)"
            ]
          },
          "metadata": {},
          "execution_count": 63
        }
      ]
    },
    {
      "cell_type": "code",
      "metadata": {
        "id": "6V32cQFa6Ldl"
      },
      "source": [
        "previsao = lgbm.predict(df_test_x)"
      ],
      "execution_count": null,
      "outputs": []
    },
    {
      "cell_type": "code",
      "metadata": {
        "colab": {
          "base_uri": "https://localhost:8080/"
        },
        "id": "LHQI1PTl6VUF",
        "outputId": "7f33c4c9-39a0-4794-ccf2-2c3b0713650a"
      },
      "source": [
        "accuracy_score(df_test_y, previsao)"
      ],
      "execution_count": null,
      "outputs": [
        {
          "output_type": "execute_result",
          "data": {
            "text/plain": [
              "0.9857208307880269"
            ]
          },
          "metadata": {},
          "execution_count": 65
        }
      ]
    },
    {
      "cell_type": "code",
      "metadata": {
        "colab": {
          "base_uri": "https://localhost:8080/",
          "height": 279
        },
        "id": "9rmZwyyQ6he3",
        "outputId": "66822a81-197d-429b-db5d-d69f73b3bc17"
      },
      "source": [
        "cm = ConfusionMatrix(lgbm)\n",
        "cm.fit(df_train_x, df_train_y)\n",
        "cm.score(df_test_x, df_test_y)"
      ],
      "execution_count": null,
      "outputs": [
        {
          "output_type": "execute_result",
          "data": {
            "text/plain": [
              "0.9857208307880269"
            ]
          },
          "metadata": {},
          "execution_count": 66
        },
        {
          "output_type": "display_data",
          "data": {
            "image/png": "[encoded data removed]",
            "text/plain": [
              "<Figure size 432x288 with 1 Axes>"
            ]
          },
          "metadata": {
            "needs_background": "light"
          }
        }
      ]
    },
    {
      "cell_type": "code",
      "metadata": {
        "colab": {
          "base_uri": "https://localhost:8080/"
        },
        "id": "Vxsx9tex61av",
        "outputId": "2ea5617d-e5dd-4a85-fedc-f4feec761c7b"
      },
      "source": [
        "print(classification_report(df_test_y, previsao))"
      ],
      "execution_count": null,
      "outputs": [
        {
          "output_type": "stream",
          "name": "stdout",
          "text": [
            "              precision    recall  f1-score   support\n",
            "\n",
            "           0       0.99      1.00      0.99     12764\n",
            "           1       0.78      0.60      0.68       332\n",
            "\n",
            "    accuracy                           0.99     13096\n",
            "   macro avg       0.89      0.80      0.84     13096\n",
            "weighted avg       0.98      0.99      0.98     13096\n",
            "\n"
          ]
        }
      ]
    },
    {
      "cell_type": "code",
      "metadata": {
        "id": "Uekgc29c7KM_"
      },
      "source": [
        "# modelo otimizado com parâmetro de peso de classe\n",
        "\n",
        "lgbm = lightgbm.LGBMClassifier(num_leaves= 100, learning_rate= 0.1, max_depth= -1, min_split_gain= 0, n_estimators= 200, min_child_samples= 30, class_weight= 'balanced')\n",
        "lgbm.fit(df_train_x, df_train_y)\n",
        "previsao = lgbm.predict(df_test_x)"
      ],
      "execution_count": null,
      "outputs": []
    },
    {
      "cell_type": "code",
      "metadata": {
        "colab": {
          "base_uri": "https://localhost:8080/"
        },
        "id": "Dgd0dgH57a6h",
        "outputId": "19dcb4bf-5da6-409a-9dad-0eb0032d9f62"
      },
      "source": [
        "accuracy_score(df_test_y, previsao)"
      ],
      "execution_count": null,
      "outputs": [
        {
          "output_type": "execute_result",
          "data": {
            "text/plain": [
              "0.9865607819181429"
            ]
          },
          "metadata": {},
          "execution_count": 69
        }
      ]
    },
    {
      "cell_type": "code",
      "metadata": {
        "colab": {
          "base_uri": "https://localhost:8080/",
          "height": 279
        },
        "id": "J_ZYGLQg7cjj",
        "outputId": "bc5b13ee-9e9d-454f-d2c8-8e5e8956f3a5"
      },
      "source": [
        "cm = ConfusionMatrix(lgbm)\n",
        "cm.fit(df_train_x, df_train_y)\n",
        "cm.score(df_test_x, df_test_y)"
      ],
      "execution_count": null,
      "outputs": [
        {
          "output_type": "execute_result",
          "data": {
            "text/plain": [
              "0.9865607819181429"
            ]
          },
          "metadata": {},
          "execution_count": 70
        },
        {
          "output_type": "display_data",
          "data": {
            "image/png": "[encoded data removed]",
            "text/plain": [
              "<Figure size 432x288 with 1 Axes>"
            ]
          },
          "metadata": {
            "needs_background": "light"
          }
        }
      ]
    },
    {
      "cell_type": "code",
      "metadata": {
        "colab": {
          "base_uri": "https://localhost:8080/"
        },
        "id": "1PDIAzwU7kU_",
        "outputId": "5e2ed668-f78a-4613-8138-448ddb6bd265"
      },
      "source": [
        "print(classification_report(df_test_y, previsao))"
      ],
      "execution_count": null,
      "outputs": [
        {
          "output_type": "stream",
          "name": "stdout",
          "text": [
            "              precision    recall  f1-score   support\n",
            "\n",
            "           0       0.99      0.99      0.99     12764\n",
            "           1       0.77      0.66      0.71       332\n",
            "\n",
            "    accuracy                           0.99     13096\n",
            "   macro avg       0.88      0.83      0.85     13096\n",
            "weighted avg       0.99      0.99      0.99     13096\n",
            "\n"
          ]
        }
      ]
    },
    {
      "cell_type": "code",
      "metadata": {
        "id": "f6DYdRTmDoR8"
      },
      "source": [
        "# modelo otimizado com parâmetro de peso de classe adicionado posteriormente\n",
        "\n",
        "lgbm = lightgbm.LGBMClassifier(num_leaves= 31, learning_rate= 0.1, max_depth= 10, min_split_gain= 1.0, n_estimators= 100, min_child_samples= 40, class_weight= 'balanced')\n",
        "lgbm.fit(df_train_x, df_train_y)\n",
        "previsao = lgbm.predict(df_test_x)"
      ],
      "execution_count": null,
      "outputs": []
    },
    {
      "cell_type": "code",
      "metadata": {
        "colab": {
          "base_uri": "https://localhost:8080/"
        },
        "id": "170zXjJMEb1m",
        "outputId": "9123a798-edc1-4330-b1da-34f7a627f20a"
      },
      "source": [
        "accuracy_score(df_test_y, previsao)"
      ],
      "execution_count": null,
      "outputs": [
        {
          "output_type": "execute_result",
          "data": {
            "text/plain": [
              "0.9813683567501528"
            ]
          },
          "metadata": {},
          "execution_count": 73
        }
      ]
    },
    {
      "cell_type": "code",
      "metadata": {
        "colab": {
          "base_uri": "https://localhost:8080/",
          "height": 279
        },
        "id": "_S9vEZwJEdtm",
        "outputId": "de6cff0b-0c61-4516-f194-97b843017115"
      },
      "source": [
        "cm = ConfusionMatrix(lgbm)\n",
        "cm.fit(df_train_x, df_train_y)\n",
        "cm.score(df_test_x, df_test_y)"
      ],
      "execution_count": null,
      "outputs": [
        {
          "output_type": "execute_result",
          "data": {
            "text/plain": [
              "0.9813683567501528"
            ]
          },
          "metadata": {},
          "execution_count": 74
        },
        {
          "output_type": "display_data",
          "data": {
            "image/png": "[encoded data removed]",
            "text/plain": [
              "<Figure size 432x288 with 1 Axes>"
            ]
          },
          "metadata": {
            "needs_background": "light"
          }
        }
      ]
    },
    {
      "cell_type": "code",
      "metadata": {
        "colab": {
          "base_uri": "https://localhost:8080/"
        },
        "id": "J4rQhTL3EgrF",
        "outputId": "fe82bb97-3a57-42e2-8493-c45dfff57d88"
      },
      "source": [
        "print(classification_report(df_test_y, previsao))"
      ],
      "execution_count": null,
      "outputs": [
        {
          "output_type": "stream",
          "name": "stdout",
          "text": [
            "              precision    recall  f1-score   support\n",
            "\n",
            "           0       0.99      0.99      0.99     12764\n",
            "           1       0.60      0.80      0.68       332\n",
            "\n",
            "    accuracy                           0.98     13096\n",
            "   macro avg       0.80      0.89      0.84     13096\n",
            "weighted avg       0.98      0.98      0.98     13096\n",
            "\n"
          ]
        }
      ]
    }
  ]
}